{
 "cells": [
  {
   "cell_type": "markdown",
   "metadata": {},
   "source": [
    "# Example of multi-criteria decision-making (MCDM)\n",
    "\n",
    "This example chooses a method of travel from three possible modes.  We will follow the qualitative scoring technique from Mistree, F., Lewis, K., Stonis, L., “Selection in the Conceptual Design of Aircraft”, AIAA Journal, Paper no. AIAA-94-4382, 1994.  (Available at http://arc.aiaa.org/doi/pdf/10.2514/6.1994-4382).\n",
    "\n",
    "The method is implemented in the simple mcdm.py library.  First, we set up a new Mcdm object and tell it the options we will be choosing between.  We can view the Mcdm matrix as a table, which is blank to begin with."
   ]
  },
  {
   "cell_type": "code",
   "execution_count": 1,
   "metadata": {},
   "outputs": [
    {
     "data": {
      "text/html": [
       "<table>\n",
       "<tr><th>Option</th></tr>\n",
       "<tr><th>Car</th></tr>\n",
       "<tr><th>Train</th></tr>\n",
       "<tr><th>Plane</th></tr>\n",
       "</table>\n"
      ],
      "text/plain": [
       "<IPython.core.display.HTML object>"
      ]
     },
     "execution_count": 1,
     "metadata": {},
     "output_type": "execute_result"
    }
   ],
   "source": [
    "from mcdm import Mcdm\n",
    "travel=Mcdm(('Car','Train','Plane'))\n",
    "travel.to_html()"
   ]
  },
  {
   "cell_type": "markdown",
   "metadata": {},
   "source": [
    "Time to set some scores.  We will consider five criteria:\n",
    "* Env: the cost to the environment\n",
    "* Speed\n",
    "* Price\n",
    "* Work: how much work we can get done during the trip\n",
    "* Conv: how convenient the arrangements are, e.g. are there long transfers\n",
    "\n",
    "To begin, we'll take the Car option as the baseline and score the other two, starting with the Train option."
   ]
  },
  {
   "cell_type": "code",
   "execution_count": 2,
   "metadata": {},
   "outputs": [
    {
     "data": {
      "text/html": [
       "<table>\n",
       "<tr><th>Option</th><th>Env</th> <th>Speed</th> <th>Price</th> <th>Work</th> <th>Conv</th></tr>\n",
       "<tr><th>Car</th><td>   0.000</td> <td>   0.000</td> <td>   0.000</td> <td>   0.000</td> <td>   0.000</td></tr>\n",
       "<tr><th>Train</th><td>   1.000</td> <td>   1.000</td> <td>  -1.000</td> <td>   1.000</td> <td>  -1.000</td></tr>\n",
       "<tr><th>Plane</th><td>   0.000</td> <td>   0.000</td> <td>   0.000</td> <td>   0.000</td> <td>   0.000</td></tr>\n",
       "</table>\n"
      ],
      "text/plain": [
       "<IPython.core.display.HTML object>"
      ]
     },
     "execution_count": 2,
     "metadata": {},
     "output_type": "execute_result"
    }
   ],
   "source": [
    "travel.set_score('Train','Env',1)\n",
    "travel.set_score('Train','Speed',1)\n",
    "travel.set_score('Train','Price',-1)\n",
    "travel.set_score('Train','Work',1)\n",
    "travel.set_score('Train','Conv',-1)\n",
    "travel.to_html()"
   ]
  },
  {
   "cell_type": "markdown",
   "metadata": {},
   "source": [
    "And now repeat with the Plane option.  Note that I never had to explicitly list the criteria: instead, they are added as columns when I provide the relevant scores.  I'm using a simple scoring scheme:\n",
    "* +2 option is much better than baseline\n",
    "* +1 option is somewhat better than baseline\n",
    "* 0 option indistinguishable from baseline\n",
    "* -1 option is somewhat worse than baseline\n",
    "* -2 option is far worse than baseline"
   ]
  },
  {
   "cell_type": "code",
   "execution_count": 3,
   "metadata": {},
   "outputs": [
    {
     "data": {
      "text/html": [
       "<table>\n",
       "<tr><th>Option</th><th>Env</th> <th>Speed</th> <th>Price</th> <th>Work</th> <th>Conv</th></tr>\n",
       "<tr><th>Car</th><td>   0.000</td> <td>   0.000</td> <td>   0.000</td> <td>   0.000</td> <td>   0.000</td></tr>\n",
       "<tr><th>Train</th><td>   1.000</td> <td>   1.000</td> <td>  -1.000</td> <td>   1.000</td> <td>  -1.000</td></tr>\n",
       "<tr><th>Plane</th><td>  -1.000</td> <td>   2.000</td> <td>  -2.000</td> <td>   1.000</td> <td>  -2.000</td></tr>\n",
       "</table>\n"
      ],
      "text/plain": [
       "<IPython.core.display.HTML object>"
      ]
     },
     "execution_count": 3,
     "metadata": {},
     "output_type": "execute_result"
    }
   ],
   "source": [
    "travel.set_score('Plane','Env',-1)\n",
    "travel.set_score('Plane','Speed',2)\n",
    "travel.set_score('Plane','Price',-2)\n",
    "travel.set_score('Plane','Work',1)\n",
    "travel.set_score('Plane','Conv',-2)\n",
    "travel.to_html()"
   ]
  },
  {
   "cell_type": "markdown",
   "metadata": {},
   "source": [
    "We can look at a plot at any stage.  If the result was obvious from this, great - but it's not, so we'll press on with the method."
   ]
  },
  {
   "cell_type": "code",
   "execution_count": 4,
   "metadata": {},
   "outputs": [
    {
     "data": {
      "image/png": "[encoded data removed]",
      "text/plain": [
       "<Figure size 432x288 with 1 Axes>"
      ]
     },
     "metadata": {
      "needs_background": "light"
     },
     "output_type": "display_data"
    },
    {
     "data": {
      "text/plain": [
       "<matplotlib.axes._subplots.AxesSubplot at 0x7f20716c19b0>"
      ]
     },
     "execution_count": 4,
     "metadata": {},
     "output_type": "execute_result"
    }
   ],
   "source": [
    "travel.plot()"
   ]
  },
  {
   "cell_type": "markdown",
   "metadata": {},
   "source": [
    "## Multiple baselines\n",
    "\n",
    "For fair and comprehensive comparison, we must repeat using each option as the baseline.  Using the copy method with the reset_scores option, I can easily create new blank tables for the same decision problem."
   ]
  },
  {
   "cell_type": "code",
   "execution_count": 5,
   "metadata": {},
   "outputs": [
    {
     "data": {
      "text/html": [
       "<table>\n",
       "<tr><th>Option</th><th>Price</th> <th>Speed</th> <th>Conv</th> <th>Env</th> <th>Work</th></tr>\n",
       "<tr><th>Car</th><td>   0.000</td> <td>   0.000</td> <td>   0.000</td> <td>   0.000</td> <td>   0.000</td></tr>\n",
       "<tr><th>Train</th><td>   0.000</td> <td>   0.000</td> <td>   0.000</td> <td>   0.000</td> <td>   0.000</td></tr>\n",
       "<tr><th>Plane</th><td>   0.000</td> <td>   0.000</td> <td>   0.000</td> <td>   0.000</td> <td>   0.000</td></tr>\n",
       "</table>\n"
      ],
      "text/plain": [
       "<IPython.core.display.HTML object>"
      ]
     },
     "execution_count": 5,
     "metadata": {},
     "output_type": "execute_result"
    }
   ],
   "source": [
    "travel_train_base = travel.copy(reset_scores=True)\n",
    "travel_train_base.to_html()"
   ]
  },
  {
   "cell_type": "markdown",
   "metadata": {},
   "source": [
    "This time, we'll use the Train as the baseline and score the Car and the Plane against it."
   ]
  },
  {
   "cell_type": "code",
   "execution_count": 6,
   "metadata": {},
   "outputs": [
    {
     "data": {
      "text/html": [
       "<table>\n",
       "<tr><th>Option</th><th>Price</th> <th>Speed</th> <th>Conv</th> <th>Env</th> <th>Work</th></tr>\n",
       "<tr><th>Car</th><td>   1.000</td> <td>  -1.000</td> <td>   1.000</td> <td>  -1.000</td> <td>  -1.000</td></tr>\n",
       "<tr><th>Train</th><td>   0.000</td> <td>   0.000</td> <td>   0.000</td> <td>   0.000</td> <td>   0.000</td></tr>\n",
       "<tr><th>Plane</th><td>  -1.000</td> <td>   1.000</td> <td>  -1.000</td> <td>  -1.000</td> <td>  -1.000</td></tr>\n",
       "</table>\n"
      ],
      "text/plain": [
       "<IPython.core.display.HTML object>"
      ]
     },
     "execution_count": 6,
     "metadata": {},
     "output_type": "execute_result"
    }
   ],
   "source": [
    "travel_train_base.set_score('Car','Work',-1)\n",
    "travel_train_base.set_score('Car','Conv',1)\n",
    "travel_train_base.set_score('Car','Speed',-1)\n",
    "travel_train_base.set_score('Car','Env',-1)\n",
    "travel_train_base.set_score('Car','Price',1)\n",
    "travel_train_base.set_score('Plane','Work',-1)\n",
    "travel_train_base.set_score('Plane','Conv',-1)\n",
    "travel_train_base.set_score('Plane','Speed',1)\n",
    "travel_train_base.set_score('Plane','Env',-1)\n",
    "travel_train_base.set_score('Plane','Price',-1)\n",
    "travel_train_base.to_html()"
   ]
  },
  {
   "cell_type": "markdown",
   "metadata": {},
   "source": [
    "Finally, use the plane as baseline.  To save typing, we can use the shortcut set_scores_dict method to set multiple scores at once using a Python dictionary.\n",
    "\n",
    "Thinking about it, these final scores are potentially redundant.  We've scored the plane against the car when the car was the baseline and the plane against the train when the train was the baseline, so all these comparisons have been done.  However, others have been done twice (car vs train, for example), so we need to do them all for fairness when we add them up later.  Also, there's no way at the moment of checking for consistency between two goes at the same comparison.  Stay alert!"
   ]
  },
  {
   "cell_type": "code",
   "execution_count": 7,
   "metadata": {},
   "outputs": [
    {
     "data": {
      "text/html": [
       "<table>\n",
       "<tr><th>Option</th><th>Price</th> <th>Speed</th> <th>Conv</th> <th>Env</th> <th>Work</th></tr>\n",
       "<tr><th>Car</th><td>   2.000</td> <td>  -1.000</td> <td>   2.000</td> <td>   1.000</td> <td>  -1.000</td></tr>\n",
       "<tr><th>Train</th><td>   1.000</td> <td>  -1.000</td> <td>   1.000</td> <td>   2.000</td> <td>   1.000</td></tr>\n",
       "<tr><th>Plane</th><td>   0.000</td> <td>   0.000</td> <td>   0.000</td> <td>   0.000</td> <td>   0.000</td></tr>\n",
       "</table>\n"
      ],
      "text/plain": [
       "<IPython.core.display.HTML object>"
      ]
     },
     "execution_count": 7,
     "metadata": {},
     "output_type": "execute_result"
    }
   ],
   "source": [
    "travel_plane_base = travel.copy(reset_scores=True)\n",
    "travel_plane_base.set_scores_dict({('Car','Work'):-1,\n",
    "                                   ('Car','Speed'):-1,\n",
    "                                   ('Car','Env'):1,\n",
    "                                   ('Car','Conv'):2,\n",
    "                                   ('Car','Price'):2})\n",
    "travel_plane_base.set_scores_dict({('Train','Work'):1,\n",
    "                                   ('Train','Speed'):-1,\n",
    "                                   ('Train','Env'):2,\n",
    "                                   ('Train','Conv'):1,\n",
    "                                   ('Train','Price'):1})\n",
    "travel_plane_base.to_html()"
   ]
  },
  {
   "cell_type": "markdown",
   "metadata": {},
   "source": [
    "Now we can add the three comparisons together.  The Mcdm class overloads the \"+\" operator so we can just add them up in one line to sum all the scores.  All well and good, but even the plot doesn't offer an easy decision yet."
   ]
  },
  {
   "cell_type": "code",
   "execution_count": 8,
   "metadata": {},
   "outputs": [
    {
     "data": {
      "text/html": [
       "<table>\n",
       "<tr><th>Option</th><th>Price</th> <th>Speed</th> <th>Conv</th> <th>Work</th> <th>Env</th></tr>\n",
       "<tr><th>Car</th><td>   3.000</td> <td>  -2.000</td> <td>   3.000</td> <td>  -2.000</td> <td>   0.000</td></tr>\n",
       "<tr><th>Train</th><td>   0.000</td> <td>   0.000</td> <td>   0.000</td> <td>   2.000</td> <td>   3.000</td></tr>\n",
       "<tr><th>Plane</th><td>  -3.000</td> <td>   3.000</td> <td>  -3.000</td> <td>   0.000</td> <td>  -2.000</td></tr>\n",
       "</table>\n"
      ],
      "text/plain": [
       "<IPython.core.display.HTML object>"
      ]
     },
     "execution_count": 8,
     "metadata": {},
     "output_type": "execute_result"
    }
   ],
   "source": [
    "travel_all_base = travel + travel_train_base + travel_plane_base\n",
    "travel_all_base.to_html()"
   ]
  },
  {
   "cell_type": "code",
   "execution_count": 9,
   "metadata": {},
   "outputs": [
    {
     "data": {
      "image/png": "[encoded data removed]",
      "text/plain": [
       "<Figure size 432x288 with 1 Axes>"
      ]
     },
     "metadata": {
      "needs_background": "light"
     },
     "output_type": "display_data"
    },
    {
     "data": {
      "text/plain": [
       "<matplotlib.axes._subplots.AxesSubplot at 0x7f20715f9128>"
      ]
     },
     "execution_count": 9,
     "metadata": {},
     "output_type": "execute_result"
    }
   ],
   "source": [
    "travel_all_base.plot()"
   ]
  },
  {
   "cell_type": "markdown",
   "metadata": {},
   "source": [
    "## Weighting criteria\n",
    "\n",
    "So far, we've not attempted to capture any idea of relative importance between the different criteria.  If we could, we might be able to collapse to a single score and make a decision.  Before we can combine scores, we rescale them all to between 0 and 1."
   ]
  },
  {
   "cell_type": "code",
   "execution_count": 10,
   "metadata": {},
   "outputs": [
    {
     "data": {
      "text/html": [
       "<table>\n",
       "<tr><th>Option</th><th>Price</th> <th>Speed</th> <th>Work</th> <th>Conv</th> <th>Env</th></tr>\n",
       "<tr><th>Car</th><td>   1.000</td> <td>   0.167</td> <td>   0.167</td> <td>   1.000</td> <td>   0.500</td></tr>\n",
       "<tr><th>Train</th><td>   0.500</td> <td>   0.500</td> <td>   0.833</td> <td>   0.500</td> <td>   1.000</td></tr>\n",
       "<tr><th>Plane</th><td>   0.000</td> <td>   1.000</td> <td>   0.500</td> <td>   0.000</td> <td>   0.167</td></tr>\n",
       "</table>\n"
      ],
      "text/plain": [
       "<IPython.core.display.HTML object>"
      ]
     },
     "execution_count": 10,
     "metadata": {},
     "output_type": "execute_result"
    }
   ],
   "source": [
    "travel_all_01=travel_all_base.rescale()\n",
    "travel_all_01.to_html()"
   ]
  },
  {
   "cell_type": "code",
   "execution_count": 11,
   "metadata": {},
   "outputs": [
    {
     "data": {
      "image/png": "[encoded data removed]",
      "text/plain": [
       "<Figure size 432x288 with 1 Axes>"
      ]
     },
     "metadata": {
      "needs_background": "light"
     },
     "output_type": "display_data"
    },
    {
     "data": {
      "text/plain": [
       "<matplotlib.axes._subplots.AxesSubplot at 0x7f2071548748>"
      ]
     },
     "execution_count": 11,
     "metadata": {},
     "output_type": "execute_result"
    }
   ],
   "source": [
    "travel_all_01.plot()"
   ]
  },
  {
   "cell_type": "markdown",
   "metadata": {},
   "source": [
    "Look closely and check that this is the same as the previous plot, but with the y-axis shifted and at a different scale, as we would expect.\n",
    "\n",
    "Now, we propose a weighting vector, and use that to include a new 'Intuition' column in the decision matrix.  We can use the select_criteria method to focus on it.  It looks like the train wins, but it's tight."
   ]
  },
  {
   "cell_type": "code",
   "execution_count": 12,
   "metadata": {},
   "outputs": [
    {
     "data": {
      "text/html": [
       "<table>\n",
       "<tr><th>Option</th><th>Price</th> <th>Speed</th> <th>Work</th> <th>Conv</th> <th>Env</th> <th>Intuition</th></tr>\n",
       "<tr><th>Car</th><td>   1.000</td> <td>   0.167</td> <td>   0.167</td> <td>   1.000</td> <td>   0.500</td> <td>   0.617</td></tr>\n",
       "<tr><th>Train</th><td>   0.500</td> <td>   0.500</td> <td>   0.833</td> <td>   0.500</td> <td>   1.000</td> <td>   0.650</td></tr>\n",
       "<tr><th>Plane</th><td>   0.000</td> <td>   1.000</td> <td>   0.500</td> <td>   0.000</td> <td>   0.167</td> <td>   0.267</td></tr>\n",
       "</table>\n"
      ],
      "text/plain": [
       "<IPython.core.display.HTML object>"
      ]
     },
     "execution_count": 12,
     "metadata": {},
     "output_type": "execute_result"
    }
   ],
   "source": [
    "travel_all_01.weight_criteria('Intuition',{'Work':0.3,\n",
    "                                           'Price':0.2,\n",
    "                                           'Conv':0.3,\n",
    "                                          'Env':0.1,\n",
    "                                          'Speed':0.1})\n",
    "travel_all_01.to_html()"
   ]
  },
  {
   "cell_type": "code",
   "execution_count": 13,
   "metadata": {},
   "outputs": [
    {
     "data": {
      "text/html": [
       "<table>\n",
       "<tr><th>Option</th><th>Intuition</th></tr>\n",
       "<tr><th>Car</th><td>   0.617</td></tr>\n",
       "<tr><th>Train</th><td>   0.650</td></tr>\n",
       "<tr><th>Plane</th><td>   0.267</td></tr>\n",
       "</table>\n"
      ],
      "text/plain": [
       "<IPython.core.display.HTML object>"
      ]
     },
     "execution_count": 13,
     "metadata": {},
     "output_type": "execute_result"
    }
   ],
   "source": [
    "travel_all_01.select_criteria(['Intuition']).to_html()"
   ]
  },
  {
   "cell_type": "markdown",
   "metadata": {},
   "source": [
    "## Trying Different Weights\n",
    "\n",
    "Unstaisfied by the previous result, we propose a systematic trial of different weights.  Each weight trial will emphasize one criteria twice as much as all others: \n",
    "$$w_j = \\left(\\frac{1}{N_{criteria}+1},..,\\frac{1}{N_{criteria}+1},\\frac{2}{N_{criteria}+1},\\frac{1}{N_{criteria}+1},..,\\frac{1}{N_{criteria}+1}\\right)$$.\n",
    "Happily, there's a weight_mixture method that will automate this process, producing five new columns for each of our five criteria to be emphasized."
   ]
  },
  {
   "cell_type": "code",
   "execution_count": 14,
   "metadata": {},
   "outputs": [
    {
     "data": {
      "text/html": [
       "<table>\n",
       "<tr><th>Option</th><th>Price</th> <th>Speed</th> <th>Work</th> <th>Conv</th> <th>Env</th> <th>Intuition</th> <th>Work_High</th> <th>Speed_High</th> <th>Price_High</th> <th>Conv_High</th> <th>Env_High</th></tr>\n",
       "<tr><th>Car</th><td>   1.000</td> <td>   0.167</td> <td>   0.167</td> <td>   1.000</td> <td>   0.500</td> <td>   0.617</td> <td>   0.500</td> <td>   0.500</td> <td>   0.639</td> <td>   0.639</td> <td>   0.556</td></tr>\n",
       "<tr><th>Train</th><td>   0.500</td> <td>   0.500</td> <td>   0.833</td> <td>   0.500</td> <td>   1.000</td> <td>   0.650</td> <td>   0.694</td> <td>   0.639</td> <td>   0.639</td> <td>   0.639</td> <td>   0.722</td></tr>\n",
       "<tr><th>Plane</th><td>   0.000</td> <td>   1.000</td> <td>   0.500</td> <td>   0.000</td> <td>   0.167</td> <td>   0.267</td> <td>   0.361</td> <td>   0.444</td> <td>   0.278</td> <td>   0.278</td> <td>   0.306</td></tr>\n",
       "</table>\n"
      ],
      "text/plain": [
       "<IPython.core.display.HTML object>"
      ]
     },
     "execution_count": 14,
     "metadata": {},
     "output_type": "execute_result"
    }
   ],
   "source": [
    "travel_all_01.weight_mixture(['Work','Speed','Price','Conv','Env'])\n",
    "travel_all_01.to_html()"
   ]
  },
  {
   "cell_type": "markdown",
   "metadata": {},
   "source": [
    "Let's just pull out the new ones, plus the Intuition column, and compare them."
   ]
  },
  {
   "cell_type": "code",
   "execution_count": 15,
   "metadata": {},
   "outputs": [
    {
     "data": {
      "text/html": [
       "<table>\n",
       "<tr><th>Option</th><th>Work_High</th> <th>Speed_High</th> <th>Price_High</th> <th>Conv_High</th> <th>Env_High</th> <th>Intuition</th></tr>\n",
       "<tr><th>Car</th><td>   0.500</td> <td>   0.500</td> <td>   0.639</td> <td>   0.639</td> <td>   0.556</td> <td>   0.617</td></tr>\n",
       "<tr><th>Train</th><td>   0.694</td> <td>   0.639</td> <td>   0.639</td> <td>   0.639</td> <td>   0.722</td> <td>   0.650</td></tr>\n",
       "<tr><th>Plane</th><td>   0.361</td> <td>   0.444</td> <td>   0.278</td> <td>   0.278</td> <td>   0.306</td> <td>   0.267</td></tr>\n",
       "</table>\n"
      ],
      "text/plain": [
       "<IPython.core.display.HTML object>"
      ]
     },
     "execution_count": 15,
     "metadata": {},
     "output_type": "execute_result"
    }
   ],
   "source": [
    "travel_all_01.select_criteria(['{}_High'.format(cri) for cri in ['Work','Speed','Price','Conv','Env']]\n",
    "                                + ['Intuition']).to_html()"
   ]
  },
  {
   "cell_type": "code",
   "execution_count": 16,
   "metadata": {},
   "outputs": [
    {
     "data": {
      "image/png": "[encoded data removed]",
      "text/plain": [
       "<Figure size 432x288 with 1 Axes>"
      ]
     },
     "metadata": {
      "needs_background": "light"
     },
     "output_type": "display_data"
    },
    {
     "data": {
      "text/plain": [
       "<matplotlib.axes._subplots.AxesSubplot at 0x7f2071513c18>"
      ]
     },
     "execution_count": 16,
     "metadata": {},
     "output_type": "execute_result"
    }
   ],
   "source": [
    "travel_all_01.select_criteria(['{}_High'.format(cri) for cri in ['Work','Speed','Price','Conv','Env']]\n",
    "                                + ['Intuition']).plot()"
   ]
  },
  {
   "cell_type": "markdown",
   "metadata": {},
   "source": [
    "Finally we have an answer: the train wins, because it's quite robust to changes in relative importance of criteria (spread of the bars is small) and it does better on average than the others.  The car is a reasonably close second.\n",
    "\n",
    "## Cautionary note\n",
    "\n",
    "Of course, this method is ripe for 'Garbage-In-Garbage-Out'.  While the maths and the method are cute, don't let them distract from where the important work is done:\n",
    "* the selection of the criteria\n",
    "* the scoring of the alternatives"
   ]
  }
 ],
 "metadata": {
  "kernelspec": {
   "display_name": "Python 2",
   "language": "python",
   "name": "python2"
  },
  "language_info": {
   "codemirror_mode": {
    "name": "ipython",
    "version": 3
   },
   "file_extension": ".py",
   "mimetype": "text/x-python",
   "name": "python",
   "nbconvert_exporter": "python",
   "pygments_lexer": "ipython3",
   "version": "3.5.2"
  }
 },
 "nbformat": 4,
 "nbformat_minor": 2
}
