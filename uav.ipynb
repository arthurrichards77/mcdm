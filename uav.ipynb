{
 "cells": [
  {
   "cell_type": "markdown",
   "metadata": {},
   "source": [
    "# CASCADE Drone Platform Selection\n"
   ]
  },
  {
   "cell_type": "code",
   "execution_count": 1,
   "metadata": {},
   "outputs": [],
   "source": [
    "platforms=('Vulcan Mini8',\n",
    "           'Altura Zenith ATX8',\n",
    "           'Astec Falcon 8', \n",
    "           'Freefly Alta6 pro', \n",
    "           'DJI M200',\n",
    "           'Yuneec H520',\n",
    "           'Acecore ZOE',\n",
    "           'UOB Custom Quad',\n",
    "           'UOB Custom Hex',\n",
    "           'UOB Custom Oct')"
   ]
  },
  {
   "cell_type": "code",
   "execution_count": 2,
   "metadata": {},
   "outputs": [
    {
     "data": {
      "text/html": [
       "<table>\n",
       "<tr><th>Option</th></tr>\n",
       "<tr><th>Vulcan Mini8</th></tr>\n",
       "<tr><th>Altura Zenith ATX8</th></tr>\n",
       "<tr><th>Astec Falcon 8</th></tr>\n",
       "<tr><th>Freefly Alta6 pro</th></tr>\n",
       "<tr><th>DJI M200</th></tr>\n",
       "<tr><th>Yuneec H520</th></tr>\n",
       "<tr><th>Acecore ZOE</th></tr>\n",
       "<tr><th>UOB Custom Quad</th></tr>\n",
       "<tr><th>UOB Custom Hex</th></tr>\n",
       "<tr><th>UOB Custom Oct</th></tr>\n",
       "</table>\n"
      ],
      "text/plain": [
       "<IPython.core.display.HTML object>"
      ]
     },
     "execution_count": 2,
     "metadata": {},
     "output_type": "execute_result"
    }
   ],
   "source": [
    "from mcdm import Mcdm\n",
    "uav=Mcdm(platforms)\n",
    "uav.to_html()"
   ]
  },
  {
   "cell_type": "markdown",
   "metadata": {},
   "source": [
    "Time to set some scores.  We will consider five criteria:\n",
    "* AutoPilot: +1 for Pixhawk; 0 for something workable (e.g. Mavlink); -1 for something weird\n",
    "* Flight time (mins)\n",
    "* Price (will multiply by -1 to keep principle of high score being good)\n",
    "* Rotors (4,6, or 8) as a measure of redundancy\n",
    "* Payload (remaining to 7kg, in g)\n",
    "\n",
    "All under 7kg so no MTOM considered.  Battery wrapped up in flight time.  Conceivable to trade payload for battery.\n",
    "\n",
    "To try and make this easy, print the commands first, then copy-paste."
   ]
  },
  {
   "cell_type": "code",
   "execution_count": 3,
   "metadata": {},
   "outputs": [
    {
     "name": "stdout",
     "output_type": "stream",
     "text": [
      "['Autopilot', 'Flight Time', 'Price', 'Rotors', 'Payload']\n",
      "COPY AND PASTE FROM BELOW\n",
      "uav.set_score('Vulcan Mini8', 'Autopilot' ,0.0)\n",
      "uav.set_score('Vulcan Mini8', 'Flight Time' ,0.0)\n",
      "uav.set_score('Vulcan Mini8', 'Price' ,0.0)\n",
      "uav.set_score('Vulcan Mini8', 'Rotors' ,0.0)\n",
      "uav.set_score('Vulcan Mini8', 'Payload' ,0.0)\n",
      "uav.set_score('Altura Zenith ATX8', 'Autopilot' ,0.0)\n",
      "uav.set_score('Altura Zenith ATX8', 'Flight Time' ,0.0)\n",
      "uav.set_score('Altura Zenith ATX8', 'Price' ,0.0)\n",
      "uav.set_score('Altura Zenith ATX8', 'Rotors' ,0.0)\n",
      "uav.set_score('Altura Zenith ATX8', 'Payload' ,0.0)\n",
      "uav.set_score('Astec Falcon 8', 'Autopilot' ,0.0)\n",
      "uav.set_score('Astec Falcon 8', 'Flight Time' ,0.0)\n",
      "uav.set_score('Astec Falcon 8', 'Price' ,0.0)\n",
      "uav.set_score('Astec Falcon 8', 'Rotors' ,0.0)\n",
      "uav.set_score('Astec Falcon 8', 'Payload' ,0.0)\n",
      "uav.set_score('Freefly Alta6 pro', 'Autopilot' ,0.0)\n",
      "uav.set_score('Freefly Alta6 pro', 'Flight Time' ,0.0)\n",
      "uav.set_score('Freefly Alta6 pro', 'Price' ,0.0)\n",
      "uav.set_score('Freefly Alta6 pro', 'Rotors' ,0.0)\n",
      "uav.set_score('Freefly Alta6 pro', 'Payload' ,0.0)\n",
      "uav.set_score('DJI M200', 'Autopilot' ,0.0)\n",
      "uav.set_score('DJI M200', 'Flight Time' ,0.0)\n",
      "uav.set_score('DJI M200', 'Price' ,0.0)\n",
      "uav.set_score('DJI M200', 'Rotors' ,0.0)\n",
      "uav.set_score('DJI M200', 'Payload' ,0.0)\n",
      "uav.set_score('Yuneec H520', 'Autopilot' ,0.0)\n",
      "uav.set_score('Yuneec H520', 'Flight Time' ,0.0)\n",
      "uav.set_score('Yuneec H520', 'Price' ,0.0)\n",
      "uav.set_score('Yuneec H520', 'Rotors' ,0.0)\n",
      "uav.set_score('Yuneec H520', 'Payload' ,0.0)\n",
      "uav.set_score('Acecore ZOE', 'Autopilot' ,0.0)\n",
      "uav.set_score('Acecore ZOE', 'Flight Time' ,0.0)\n",
      "uav.set_score('Acecore ZOE', 'Price' ,0.0)\n",
      "uav.set_score('Acecore ZOE', 'Rotors' ,0.0)\n",
      "uav.set_score('Acecore ZOE', 'Payload' ,0.0)\n",
      "uav.set_score('UOB Custom Quad', 'Autopilot' ,0.0)\n",
      "uav.set_score('UOB Custom Quad', 'Flight Time' ,0.0)\n",
      "uav.set_score('UOB Custom Quad', 'Price' ,0.0)\n",
      "uav.set_score('UOB Custom Quad', 'Rotors' ,0.0)\n",
      "uav.set_score('UOB Custom Quad', 'Payload' ,0.0)\n",
      "uav.set_score('UOB Custom Hex', 'Autopilot' ,0.0)\n",
      "uav.set_score('UOB Custom Hex', 'Flight Time' ,0.0)\n",
      "uav.set_score('UOB Custom Hex', 'Price' ,0.0)\n",
      "uav.set_score('UOB Custom Hex', 'Rotors' ,0.0)\n",
      "uav.set_score('UOB Custom Hex', 'Payload' ,0.0)\n",
      "uav.set_score('UOB Custom Oct', 'Autopilot' ,0.0)\n",
      "uav.set_score('UOB Custom Oct', 'Flight Time' ,0.0)\n",
      "uav.set_score('UOB Custom Oct', 'Price' ,0.0)\n",
      "uav.set_score('UOB Custom Oct', 'Rotors' ,0.0)\n",
      "uav.set_score('UOB Custom Oct', 'Payload' ,0.0)\n"
     ]
    }
   ],
   "source": [
    "criteria = ['Autopilot','Flight Time','Price','Rotors','Payload']\n",
    "print(criteria)\n",
    "print('COPY AND PASTE FROM BELOW')\n",
    "for opt in platforms:\n",
    "    for cri in criteria:\n",
    "        print(\"uav.set_score(\\'{}\\', \\'{}\\' ,0.0)\".format(opt,cri))"
   ]
  },
  {
   "cell_type": "code",
   "execution_count": 4,
   "metadata": {},
   "outputs": [
    {
     "data": {
      "text/html": [
       "<table>\n",
       "<tr><th>Option</th><th>Autopilot</th> <th>Flight Time</th> <th>Price</th> <th>Rotors</th> <th>Payload</th></tr>\n",
       "<tr><th>Vulcan Mini8</th><td>   1.000</td> <td>  12.000</td> <td>-7000.000</td> <td>   8.000</td> <td>1700.000</td></tr>\n",
       "<tr><th>Altura Zenith ATX8</th><td>   1.000</td> <td>  10.000</td> <td>-14000.000</td> <td>   8.000</td> <td>1110.000</td></tr>\n",
       "<tr><th>Astec Falcon 8</th><td>  -1.000</td> <td>  12.000</td> <td>-22000.000</td> <td>   8.000</td> <td> 770.000</td></tr>\n",
       "<tr><th>Freefly Alta6 pro</th><td>   1.000</td> <td>   5.000</td> <td>-10000.000</td> <td>   6.000</td> <td> 460.000</td></tr>\n",
       "<tr><th>DJI M200</th><td>  -1.000</td> <td>  24.000</td> <td>-9000.000</td> <td>   4.000</td> <td>1140.000</td></tr>\n",
       "<tr><th>Yuneec H520</th><td>   0.000</td> <td>  10.000</td> <td>-3200.000</td> <td>   0.000</td> <td> 955.000</td></tr>\n",
       "<tr><th>Acecore ZOE</th><td>   1.000</td> <td>  16.000</td> <td>-9500.000</td> <td>   4.000</td> <td>1710.000</td></tr>\n",
       "<tr><th>UOB Custom Quad</th><td>   1.000</td> <td>  20.000</td> <td>-3000.000</td> <td>   4.000</td> <td> 700.000</td></tr>\n",
       "<tr><th>UOB Custom Hex</th><td>   1.000</td> <td>  18.000</td> <td>-4000.000</td> <td>   6.000</td> <td>1000.000</td></tr>\n",
       "<tr><th>UOB Custom Oct</th><td>   1.000</td> <td>  17.000</td> <td>-5000.000</td> <td>   8.000</td> <td>  85.000</td></tr>\n",
       "</table>\n"
      ],
      "text/plain": [
       "<IPython.core.display.HTML object>"
      ]
     },
     "execution_count": 4,
     "metadata": {},
     "output_type": "execute_result"
    }
   ],
   "source": [
    "uav.set_score('Vulcan Mini8', 'Autopilot' ,1.0)\n",
    "uav.set_score('Vulcan Mini8', 'Flight Time' ,12.0)\n",
    "uav.set_score('Vulcan Mini8', 'Price' ,-7000.0)\n",
    "uav.set_score('Vulcan Mini8', 'Rotors' ,8.0)\n",
    "uav.set_score('Vulcan Mini8', 'Payload' ,1700)\n",
    "uav.set_score('Altura Zenith ATX8', 'Autopilot' ,1.0)\n",
    "uav.set_score('Altura Zenith ATX8', 'Flight Time' ,10.0)\n",
    "uav.set_score('Altura Zenith ATX8', 'Price' ,-14000.0)\n",
    "uav.set_score('Altura Zenith ATX8', 'Rotors' ,8.0)\n",
    "uav.set_score('Altura Zenith ATX8', 'Payload' ,1110.0)\n",
    "uav.set_score('Astec Falcon 8', 'Autopilot' ,-1.0)\n",
    "uav.set_score('Astec Falcon 8', 'Flight Time' ,12.0)\n",
    "uav.set_score('Astec Falcon 8', 'Price' ,-22000.0)\n",
    "uav.set_score('Astec Falcon 8', 'Rotors' ,8.0)\n",
    "uav.set_score('Astec Falcon 8', 'Payload' ,770.0)\n",
    "uav.set_score('Freefly Alta6 pro', 'Autopilot' ,1.0)\n",
    "uav.set_score('Freefly Alta6 pro', 'Flight Time' ,5.0)\n",
    "uav.set_score('Freefly Alta6 pro', 'Price' ,-10000.0)\n",
    "uav.set_score('Freefly Alta6 pro', 'Rotors' ,6.0)\n",
    "uav.set_score('Freefly Alta6 pro', 'Payload' ,460.0)\n",
    "uav.set_score('DJI M200', 'Autopilot' ,-1.0)\n",
    "uav.set_score('DJI M200', 'Flight Time' ,24.0)\n",
    "uav.set_score('DJI M200', 'Price' ,-9000.0)\n",
    "uav.set_score('DJI M200', 'Rotors' ,4.0)\n",
    "uav.set_score('DJI M200', 'Payload' ,1140.0)\n",
    "uav.set_score('Yuneec H520', 'Autopilot' ,0.0)\n",
    "uav.set_score('Yuneec H520', 'Flight Time' ,10.0)\n",
    "uav.set_score('Yuneec H520', 'Price' ,-3200.0)\n",
    "uav.set_score('Yuneec H520', 'Rotors' ,0.0)\n",
    "uav.set_score('Yuneec H520', 'Payload' ,955.0)\n",
    "uav.set_score('Acecore ZOE', 'Autopilot' ,1.0)\n",
    "uav.set_score('Acecore ZOE', 'Flight Time' ,16.0)\n",
    "uav.set_score('Acecore ZOE', 'Price' ,-9500.0)\n",
    "uav.set_score('Acecore ZOE', 'Rotors' ,4.0)\n",
    "uav.set_score('Acecore ZOE', 'Payload' ,1710.0)\n",
    "uav.set_score('UOB Custom Quad', 'Autopilot' ,1.0)\n",
    "uav.set_score('UOB Custom Quad', 'Flight Time' ,20.0)\n",
    "uav.set_score('UOB Custom Quad', 'Price' ,-3000.0)\n",
    "uav.set_score('UOB Custom Quad', 'Rotors' ,4.0)\n",
    "uav.set_score('UOB Custom Quad', 'Payload' ,700.0)\n",
    "uav.set_score('UOB Custom Hex', 'Autopilot' ,1.0)\n",
    "uav.set_score('UOB Custom Hex', 'Flight Time' ,18.0)\n",
    "uav.set_score('UOB Custom Hex', 'Price' ,-4000.0)\n",
    "uav.set_score('UOB Custom Hex', 'Rotors' ,6.0)\n",
    "uav.set_score('UOB Custom Hex', 'Payload' ,1000.0)\n",
    "uav.set_score('UOB Custom Oct', 'Autopilot' ,1.0)\n",
    "uav.set_score('UOB Custom Oct', 'Flight Time' ,17.0)\n",
    "uav.set_score('UOB Custom Oct', 'Price' ,-5000.0)\n",
    "uav.set_score('UOB Custom Oct', 'Rotors' ,8.0)\n",
    "uav.set_score('UOB Custom Oct', 'Payload' ,85.0)\n",
    "uav.to_html()"
   ]
  },
  {
   "cell_type": "markdown",
   "metadata": {},
   "source": [
    "Need to add a criterion, without undoing all the hard work above.\n",
    "* Cert: +1 if certified and COTS, 0 if COTS and open source, -1 if home-build"
   ]
  },
  {
   "cell_type": "code",
   "execution_count": 5,
   "metadata": {},
   "outputs": [
    {
     "name": "stdout",
     "output_type": "stream",
     "text": [
      "COPY AND PASTE FROM BELOW\n",
      "uav.set_score('Vulcan Mini8', 'Cert' ,0.0)\n",
      "uav.set_score('Altura Zenith ATX8', 'Cert' ,0.0)\n",
      "uav.set_score('Astec Falcon 8', 'Cert' ,0.0)\n",
      "uav.set_score('Freefly Alta6 pro', 'Cert' ,0.0)\n",
      "uav.set_score('DJI M200', 'Cert' ,0.0)\n",
      "uav.set_score('Yuneec H520', 'Cert' ,0.0)\n",
      "uav.set_score('Acecore ZOE', 'Cert' ,0.0)\n",
      "uav.set_score('UOB Custom Quad', 'Cert' ,0.0)\n",
      "uav.set_score('UOB Custom Hex', 'Cert' ,0.0)\n",
      "uav.set_score('UOB Custom Oct', 'Cert' ,0.0)\n"
     ]
    }
   ],
   "source": [
    "criteria += ['Cert']\n",
    "print('COPY AND PASTE FROM BELOW')\n",
    "for opt in platforms:\n",
    "    for cri in ['Cert']:\n",
    "        print(\"uav.set_score(\\'{}\\', \\'{}\\' ,0.0)\".format(opt,cri))"
   ]
  },
  {
   "cell_type": "code",
   "execution_count": 6,
   "metadata": {},
   "outputs": [
    {
     "data": {
      "text/html": [
       "<table>\n",
       "<tr><th>Option</th><th>Autopilot</th> <th>Flight Time</th> <th>Price</th> <th>Rotors</th> <th>Payload</th> <th>Cert</th></tr>\n",
       "<tr><th>Vulcan Mini8</th><td>   1.000</td> <td>  12.000</td> <td>-7000.000</td> <td>   8.000</td> <td>1700.000</td> <td>   0.000</td></tr>\n",
       "<tr><th>Altura Zenith ATX8</th><td>   1.000</td> <td>  10.000</td> <td>-14000.000</td> <td>   8.000</td> <td>1110.000</td> <td>   0.000</td></tr>\n",
       "<tr><th>Astec Falcon 8</th><td>  -1.000</td> <td>  12.000</td> <td>-22000.000</td> <td>   8.000</td> <td> 770.000</td> <td>   1.000</td></tr>\n",
       "<tr><th>Freefly Alta6 pro</th><td>   1.000</td> <td>   5.000</td> <td>-10000.000</td> <td>   6.000</td> <td> 460.000</td> <td>   0.000</td></tr>\n",
       "<tr><th>DJI M200</th><td>  -1.000</td> <td>  24.000</td> <td>-9000.000</td> <td>   4.000</td> <td>1140.000</td> <td>   1.000</td></tr>\n",
       "<tr><th>Yuneec H520</th><td>   0.000</td> <td>  10.000</td> <td>-3200.000</td> <td>   0.000</td> <td> 955.000</td> <td>   0.000</td></tr>\n",
       "<tr><th>Acecore ZOE</th><td>   1.000</td> <td>  16.000</td> <td>-9500.000</td> <td>   4.000</td> <td>1710.000</td> <td>   0.000</td></tr>\n",
       "<tr><th>UOB Custom Quad</th><td>   1.000</td> <td>  20.000</td> <td>-3000.000</td> <td>   4.000</td> <td> 700.000</td> <td>  -1.000</td></tr>\n",
       "<tr><th>UOB Custom Hex</th><td>   1.000</td> <td>  18.000</td> <td>-4000.000</td> <td>   6.000</td> <td>1000.000</td> <td>  -1.000</td></tr>\n",
       "<tr><th>UOB Custom Oct</th><td>   1.000</td> <td>  17.000</td> <td>-5000.000</td> <td>   8.000</td> <td>  85.000</td> <td>  -1.000</td></tr>\n",
       "</table>\n"
      ],
      "text/plain": [
       "<IPython.core.display.HTML object>"
      ]
     },
     "execution_count": 6,
     "metadata": {},
     "output_type": "execute_result"
    }
   ],
   "source": [
    "uav.set_score('Vulcan Mini8', 'Cert' ,0.0)\n",
    "uav.set_score('Altura Zenith ATX8', 'Cert' ,0.0)\n",
    "uav.set_score('Astec Falcon 8', 'Cert' ,1.0)\n",
    "uav.set_score('Freefly Alta6 pro', 'Cert' ,0.0)\n",
    "uav.set_score('DJI M200', 'Cert' ,1.0)\n",
    "uav.set_score('Yuneec H520', 'Cert' ,0.0)\n",
    "uav.set_score('Acecore ZOE', 'Cert' ,0.0)\n",
    "uav.set_score('UOB Custom Quad', 'Cert' ,-1.0)\n",
    "uav.set_score('UOB Custom Hex', 'Cert' ,-1.0)\n",
    "uav.set_score('UOB Custom Oct', 'Cert' ,-1.0)\n",
    "uav.to_html()"
   ]
  },
  {
   "cell_type": "markdown",
   "metadata": {},
   "source": [
    "We can look at a plot at any stage.  If the result was obvious from this, great - but it's not, so we'll press on with the method."
   ]
  },
  {
   "cell_type": "code",
   "execution_count": 7,
   "metadata": {},
   "outputs": [
    {
     "data": {
      "image/png": "[encoded data removed]",
      "text/plain": [
       "<Figure size 432x288 with 1 Axes>"
      ]
     },
     "metadata": {},
     "output_type": "display_data"
    },
    {
     "data": {
      "text/plain": [
       "<matplotlib.axes._subplots.AxesSubplot at 0x7d9e4e0>"
      ]
     },
     "execution_count": 7,
     "metadata": {},
     "output_type": "execute_result"
    }
   ],
   "source": [
    "uav.plot()"
   ]
  },
  {
   "cell_type": "markdown",
   "metadata": {},
   "source": [
    "## Weighting criteria\n",
    "\n",
    "So far, we've not attempted to capture any idea of relative importance between the different criteria.  If we could, we might be able to collapse to a single score and make a decision.  Before we can combine scores, we rescale them all to between 0 and 1."
   ]
  },
  {
   "cell_type": "code",
   "execution_count": 8,
   "metadata": {},
   "outputs": [
    {
     "data": {
      "text/html": [
       "<table>\n",
       "<tr><th>Option</th><th>Autopilot</th> <th>Flight Time</th> <th>Price</th> <th>Rotors</th> <th>Payload</th> <th>Cert</th></tr>\n",
       "<tr><th>Vulcan Mini8</th><td>   1.000</td> <td>   0.368</td> <td>   0.789</td> <td>   1.000</td> <td>   0.994</td> <td>   0.500</td></tr>\n",
       "<tr><th>Altura Zenith ATX8</th><td>   1.000</td> <td>   0.263</td> <td>   0.421</td> <td>   1.000</td> <td>   0.631</td> <td>   0.500</td></tr>\n",
       "<tr><th>Astec Falcon 8</th><td>   0.000</td> <td>   0.368</td> <td>   0.000</td> <td>   1.000</td> <td>   0.422</td> <td>   1.000</td></tr>\n",
       "<tr><th>Freefly Alta6 pro</th><td>   1.000</td> <td>   0.000</td> <td>   0.632</td> <td>   0.750</td> <td>   0.231</td> <td>   0.500</td></tr>\n",
       "<tr><th>DJI M200</th><td>   0.000</td> <td>   1.000</td> <td>   0.684</td> <td>   0.500</td> <td>   0.649</td> <td>   1.000</td></tr>\n",
       "<tr><th>Yuneec H520</th><td>   0.500</td> <td>   0.263</td> <td>   0.989</td> <td>   0.000</td> <td>   0.535</td> <td>   0.500</td></tr>\n",
       "<tr><th>Acecore ZOE</th><td>   1.000</td> <td>   0.579</td> <td>   0.658</td> <td>   0.500</td> <td>   1.000</td> <td>   0.500</td></tr>\n",
       "<tr><th>UOB Custom Quad</th><td>   1.000</td> <td>   0.789</td> <td>   1.000</td> <td>   0.500</td> <td>   0.378</td> <td>   0.000</td></tr>\n",
       "<tr><th>UOB Custom Hex</th><td>   1.000</td> <td>   0.684</td> <td>   0.947</td> <td>   0.750</td> <td>   0.563</td> <td>   0.000</td></tr>\n",
       "<tr><th>UOB Custom Oct</th><td>   1.000</td> <td>   0.632</td> <td>   0.895</td> <td>   1.000</td> <td>   0.000</td> <td>   0.000</td></tr>\n",
       "</table>\n"
      ],
      "text/plain": [
       "<IPython.core.display.HTML object>"
      ]
     },
     "execution_count": 8,
     "metadata": {},
     "output_type": "execute_result"
    }
   ],
   "source": [
    "uav_01=uav.rescale(by_columns=True)\n",
    "uav_01.to_html()"
   ]
  },
  {
   "cell_type": "code",
   "execution_count": 9,
   "metadata": {},
   "outputs": [
    {
     "data": {
      "image/png": "[encoded data removed]",
      "text/plain": [
       "<Figure size 432x288 with 1 Axes>"
      ]
     },
     "metadata": {},
     "output_type": "display_data"
    },
    {
     "data": {
      "text/plain": [
       "<matplotlib.axes._subplots.AxesSubplot at 0x8040b70>"
      ]
     },
     "execution_count": 9,
     "metadata": {},
     "output_type": "execute_result"
    }
   ],
   "source": [
    "uav_01.plot()"
   ]
  },
  {
   "cell_type": "markdown",
   "metadata": {},
   "source": [
    "Now, we propose a weighting vector, and use that to include a new 'Intuition' column in the decision matrix.  We can use the select_criteria method to focus on it.  To save typing, get Python to print a candidate vector first."
   ]
  },
  {
   "cell_type": "code",
   "execution_count": 10,
   "metadata": {},
   "outputs": [
    {
     "name": "stdout",
     "output_type": "stream",
     "text": [
      "COPY AND PASTE\n",
      "weight_vector={'Autopilot': 0.16666666666666666,\n",
      "'Flight Time': 0.16666666666666666,\n",
      "'Price': 0.16666666666666666,\n",
      "'Rotors': 0.16666666666666666,\n",
      "'Payload': 0.16666666666666666,\n",
      "'Cert': 0.16666666666666666}\n",
      "\n"
     ]
    }
   ],
   "source": [
    "default_weight = 1.0/len(uav.criteria())\n",
    "print('COPY AND PASTE')\n",
    "print('weight_vector={' + ',\\n'.join([\"\\'{}\\': {}\".format(cri,default_weight) for cri in uav.criteria()]) + '}\\n')\n"
   ]
  },
  {
   "cell_type": "code",
   "execution_count": 11,
   "metadata": {},
   "outputs": [
    {
     "data": {
      "text/html": [
       "<table>\n",
       "<tr><th>Option</th><th>Intuition</th></tr>\n",
       "<tr><th>Vulcan Mini8</th><td>   0.840</td></tr>\n",
       "<tr><th>Altura Zenith ATX8</th><td>   0.720</td></tr>\n",
       "<tr><th>Astec Falcon 8</th><td>   0.421</td></tr>\n",
       "<tr><th>Freefly Alta6 pro</th><td>   0.597</td></tr>\n",
       "<tr><th>DJI M200</th><td>   0.523</td></tr>\n",
       "<tr><th>Yuneec H520</th><td>   0.457</td></tr>\n",
       "<tr><th>Acecore ZOE</th><td>   0.774</td></tr>\n",
       "<tr><th>UOB Custom Quad</th><td>   0.630</td></tr>\n",
       "<tr><th>UOB Custom Hex</th><td>   0.688</td></tr>\n",
       "<tr><th>UOB Custom Oct</th><td>   0.603</td></tr>\n",
       "</table>\n"
      ],
      "text/plain": [
       "<IPython.core.display.HTML object>"
      ]
     },
     "execution_count": 11,
     "metadata": {},
     "output_type": "execute_result"
    }
   ],
   "source": [
    "weight_vector={'Autopilot': 0.3,\n",
    "'Flight Time': 0.1,\n",
    "'Price': 0.1,\n",
    "'Rotors': 0.15,\n",
    "'Payload': 0.2,\n",
    "'Cert': 0.15}\n",
    "uav_01.weight_criteria('Intuition',weight_vector)\n",
    "uav_01.select_criteria(['Intuition']).to_html()"
   ]
  },
  {
   "cell_type": "markdown",
   "metadata": {},
   "source": [
    "## Trying Different Weights\n",
    "\n",
    "Unstaisfied by the previous result, we propose a systematic trial of different weights.  Each weight trial will emphasize one criteria twice as much as all others: \n",
    "$$w_j = \\left(\\frac{1}{N_{criteria}+1},..,\\frac{1}{N_{criteria}+1},\\frac{2}{N_{criteria}+1},\\frac{1}{N_{criteria}+1},..,\\frac{1}{N_{criteria}+1}\\right)$$.\n",
    "Happily, there's a weight_mixture method that will automate this process, producing five new columns for each of our five criteria to be emphasized."
   ]
  },
  {
   "cell_type": "code",
   "execution_count": 12,
   "metadata": {},
   "outputs": [
    {
     "data": {
      "text/html": [
       "<table>\n",
       "<tr><th>Option</th><th>Autopilot</th> <th>Flight Time</th> <th>Price</th> <th>Rotors</th> <th>Payload</th> <th>Cert</th> <th>Intuition</th> <th>Autopilot_High</th> <th>Flight Time_High</th> <th>Price_High</th> <th>Rotors_High</th> <th>Payload_High</th> <th>Cert_High</th></tr>\n",
       "<tr><th>Vulcan Mini8</th><td>   1.000</td> <td>   0.368</td> <td>   0.789</td> <td>   1.000</td> <td>   0.994</td> <td>   0.500</td> <td>   0.840</td> <td>   0.807</td> <td>   0.717</td> <td>   0.777</td> <td>   0.807</td> <td>   0.807</td> <td>   0.736</td></tr>\n",
       "<tr><th>Altura Zenith ATX8</th><td>   1.000</td> <td>   0.263</td> <td>   0.421</td> <td>   1.000</td> <td>   0.631</td> <td>   0.500</td> <td>   0.720</td> <td>   0.688</td> <td>   0.583</td> <td>   0.605</td> <td>   0.688</td> <td>   0.635</td> <td>   0.616</td></tr>\n",
       "<tr><th>Astec Falcon 8</th><td>   0.000</td> <td>   0.368</td> <td>   0.000</td> <td>   1.000</td> <td>   0.422</td> <td>   1.000</td> <td>   0.421</td> <td>   0.399</td> <td>   0.451</td> <td>   0.399</td> <td>   0.541</td> <td>   0.459</td> <td>   0.541</td></tr>\n",
       "<tr><th>Freefly Alta6 pro</th><td>   1.000</td> <td>   0.000</td> <td>   0.632</td> <td>   0.750</td> <td>   0.231</td> <td>   0.500</td> <td>   0.597</td> <td>   0.587</td> <td>   0.445</td> <td>   0.535</td> <td>   0.552</td> <td>   0.478</td> <td>   0.516</td></tr>\n",
       "<tr><th>DJI M200</th><td>   0.000</td> <td>   1.000</td> <td>   0.684</td> <td>   0.500</td> <td>   0.649</td> <td>   1.000</td> <td>   0.523</td> <td>   0.548</td> <td>   0.690</td> <td>   0.645</td> <td>   0.619</td> <td>   0.640</td> <td>   0.690</td></tr>\n",
       "<tr><th>Yuneec H520</th><td>   0.500</td> <td>   0.263</td> <td>   0.989</td> <td>   0.000</td> <td>   0.535</td> <td>   0.500</td> <td>   0.457</td> <td>   0.470</td> <td>   0.436</td> <td>   0.540</td> <td>   0.398</td> <td>   0.475</td> <td>   0.470</td></tr>\n",
       "<tr><th>Acecore ZOE</th><td>   1.000</td> <td>   0.579</td> <td>   0.658</td> <td>   0.500</td> <td>   1.000</td> <td>   0.500</td> <td>   0.774</td> <td>   0.748</td> <td>   0.688</td> <td>   0.699</td> <td>   0.677</td> <td>   0.748</td> <td>   0.677</td></tr>\n",
       "<tr><th>UOB Custom Quad</th><td>   1.000</td> <td>   0.789</td> <td>   1.000</td> <td>   0.500</td> <td>   0.378</td> <td>   0.000</td> <td>   0.630</td> <td>   0.667</td> <td>   0.637</td> <td>   0.667</td> <td>   0.595</td> <td>   0.578</td> <td>   0.524</td></tr>\n",
       "<tr><th>UOB Custom Hex</th><td>   1.000</td> <td>   0.684</td> <td>   0.947</td> <td>   0.750</td> <td>   0.563</td> <td>   0.000</td> <td>   0.688</td> <td>   0.706</td> <td>   0.661</td> <td>   0.699</td> <td>   0.671</td> <td>   0.644</td> <td>   0.564</td></tr>\n",
       "<tr><th>UOB Custom Oct</th><td>   1.000</td> <td>   0.632</td> <td>   0.895</td> <td>   1.000</td> <td>   0.000</td> <td>   0.000</td> <td>   0.603</td> <td>   0.647</td> <td>   0.594</td> <td>   0.632</td> <td>   0.647</td> <td>   0.504</td> <td>   0.504</td></tr>\n",
       "</table>\n"
      ],
      "text/plain": [
       "<IPython.core.display.HTML object>"
      ]
     },
     "execution_count": 12,
     "metadata": {},
     "output_type": "execute_result"
    }
   ],
   "source": [
    "uav_01.weight_mixture(criteria)\n",
    "uav_01.to_html()"
   ]
  },
  {
   "cell_type": "markdown",
   "metadata": {},
   "source": [
    "Let's just pull out the new ones, plus the Intuition column, and compare them."
   ]
  },
  {
   "cell_type": "code",
   "execution_count": 13,
   "metadata": {},
   "outputs": [
    {
     "data": {
      "text/html": [
       "<table>\n",
       "<tr><th>Option</th><th>Autopilot_High</th> <th>Flight Time_High</th> <th>Price_High</th> <th>Rotors_High</th> <th>Payload_High</th> <th>Cert_High</th> <th>Intuition</th></tr>\n",
       "<tr><th>Vulcan Mini8</th><td>   0.807</td> <td>   0.717</td> <td>   0.777</td> <td>   0.807</td> <td>   0.807</td> <td>   0.736</td> <td>   0.840</td></tr>\n",
       "<tr><th>Altura Zenith ATX8</th><td>   0.688</td> <td>   0.583</td> <td>   0.605</td> <td>   0.688</td> <td>   0.635</td> <td>   0.616</td> <td>   0.720</td></tr>\n",
       "<tr><th>Astec Falcon 8</th><td>   0.399</td> <td>   0.451</td> <td>   0.399</td> <td>   0.541</td> <td>   0.459</td> <td>   0.541</td> <td>   0.421</td></tr>\n",
       "<tr><th>Freefly Alta6 pro</th><td>   0.587</td> <td>   0.445</td> <td>   0.535</td> <td>   0.552</td> <td>   0.478</td> <td>   0.516</td> <td>   0.597</td></tr>\n",
       "<tr><th>DJI M200</th><td>   0.548</td> <td>   0.690</td> <td>   0.645</td> <td>   0.619</td> <td>   0.640</td> <td>   0.690</td> <td>   0.523</td></tr>\n",
       "<tr><th>Yuneec H520</th><td>   0.470</td> <td>   0.436</td> <td>   0.540</td> <td>   0.398</td> <td>   0.475</td> <td>   0.470</td> <td>   0.457</td></tr>\n",
       "<tr><th>Acecore ZOE</th><td>   0.748</td> <td>   0.688</td> <td>   0.699</td> <td>   0.677</td> <td>   0.748</td> <td>   0.677</td> <td>   0.774</td></tr>\n",
       "<tr><th>UOB Custom Quad</th><td>   0.667</td> <td>   0.637</td> <td>   0.667</td> <td>   0.595</td> <td>   0.578</td> <td>   0.524</td> <td>   0.630</td></tr>\n",
       "<tr><th>UOB Custom Hex</th><td>   0.706</td> <td>   0.661</td> <td>   0.699</td> <td>   0.671</td> <td>   0.644</td> <td>   0.564</td> <td>   0.688</td></tr>\n",
       "<tr><th>UOB Custom Oct</th><td>   0.647</td> <td>   0.594</td> <td>   0.632</td> <td>   0.647</td> <td>   0.504</td> <td>   0.504</td> <td>   0.603</td></tr>\n",
       "</table>\n"
      ],
      "text/plain": [
       "<IPython.core.display.HTML object>"
      ]
     },
     "execution_count": 13,
     "metadata": {},
     "output_type": "execute_result"
    }
   ],
   "source": [
    "uav_01.select_criteria(['{}_High'.format(cri) for cri in criteria] + ['Intuition']).to_html()"
   ]
  },
  {
   "cell_type": "code",
   "execution_count": 14,
   "metadata": {},
   "outputs": [
    {
     "data": {
      "image/png": "[encoded data removed]",
      "text/plain": [
       "<Figure size 432x288 with 1 Axes>"
      ]
     },
     "metadata": {},
     "output_type": "display_data"
    }
   ],
   "source": [
    "ax = uav_01.select_criteria(['{}_High'.format(cri) for cri in criteria] + ['Intuition']).plot(show=False)\n",
    "xt=ax.set_xticklabels(platforms,{'fontsize':9, }, rotation=45, ha='right')\n",
    "lg=ax.legend(loc='lower right')"
   ]
  },
  {
   "cell_type": "markdown",
   "metadata": {},
   "source": [
    "## Cautionary note\n",
    "\n",
    "Of course, this method is ripe for 'Garbage-In-Garbage-Out'.  While the maths and the method are cute, don't let them distract from where the important work is done:\n",
    "* the selection of the criteria\n",
    "* the scoring of the alternatives"
   ]
  }
 ],
 "metadata": {
  "kernelspec": {
   "display_name": "Python 3",
   "language": "python",
   "name": "python3"
  },
  "language_info": {
   "codemirror_mode": {
    "name": "ipython",
    "version": 3
   },
   "file_extension": ".py",
   "mimetype": "text/x-python",
   "name": "python",
   "nbconvert_exporter": "python",
   "pygments_lexer": "ipython3",
   "version": "3.6.5"
  }
 },
 "nbformat": 4,
 "nbformat_minor": 2
}
